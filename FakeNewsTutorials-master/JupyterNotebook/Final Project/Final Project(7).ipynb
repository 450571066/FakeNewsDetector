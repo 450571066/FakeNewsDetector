{
 "cells": [
  {
   "cell_type": "markdown",
   "metadata": {},
   "source": [
    "# Tianqi Part"
   ]
  },
  {
   "cell_type": "markdown",
   "metadata": {},
   "source": [
    "## Importing Data"
   ]
  },
  {
   "cell_type": "code",
   "execution_count": 1,
   "metadata": {},
   "outputs": [],
   "source": [
    "import pandas as pd\n",
    "\n",
    "#Load movie reviews dataset\n",
    "df = pd.read_csv( 'data/fake_or_real_news.csv', nrows=100000)\n",
    "title = df.title.values\n",
    "text = df.text.values\n",
    "label = df.label.values\n"
   ]
  },
  {
   "cell_type": "code",
   "execution_count": 2,
   "metadata": {},
   "outputs": [
    {
     "data": {
      "text/plain": [
       "array(['FAKE', 'FAKE', 'REAL', ..., 'FAKE', 'REAL', 'REAL'], dtype=object)"
      ]
     },
     "execution_count": 2,
     "metadata": {},
     "output_type": "execute_result"
    }
   ],
   "source": [
    "label"
   ]
  },
  {
   "cell_type": "code",
   "execution_count": 3,
   "metadata": {},
   "outputs": [],
   "source": [
    "#Find whether a Str is just a number\n",
    "def is_number(s):\n",
    "    try: \n",
    "        float(s)\n",
    "        return True\n",
    "    except ValueError:  \n",
    "        pass \n",
    "    try:\n",
    "        import unicodedata  \n",
    "        unicodedata.numeric(s)  \n",
    "        return True\n",
    "    except (TypeError, ValueError):\n",
    "        pass\n",
    "    return False\n",
    "\n",
    "\n",
    "#Find whether a Str contain English words or just meanless symbols\n",
    "def containenglish(str0):\n",
    "    import re\n",
    "    return bool(re.search('[a-z]', str0))"
   ]
  },
  {
   "cell_type": "markdown",
   "metadata": {},
   "source": [
    "## Clean non-English news"
   ]
  },
  {
   "cell_type": "code",
   "execution_count": 4,
   "metadata": {},
   "outputs": [],
   "source": [
    "def ChangeLabel(tryText):\n",
    "    if tryText == 'FAKE':\n",
    "        return 0\n",
    "    elif tryText == 'REAL':\n",
    "        return 1"
   ]
  },
  {
   "cell_type": "code",
   "execution_count": 5,
   "metadata": {},
   "outputs": [],
   "source": [
    "from langdetect import detect\n",
    "import types\n",
    "#Separatly get Text with label and Tile with label\n",
    "Text_list = []\n",
    "Text_label = []\n",
    "#clean text\n",
    "for i in range(len(text)): \n",
    "    if containenglish(text[i]) == True:\n",
    "        if (detect(text[i]) == 'en'):\n",
    "            Text_list.append(text[i])\n",
    "            Text_label.append(ChangeLabel(label[i]))\n"
   ]
  },
  {
   "cell_type": "code",
   "execution_count": 7,
   "metadata": {},
   "outputs": [],
   "source": [
    "#clean text and title\n",
    "Sum_label = []\n",
    "Title_list = []\n",
    "for i in range(len(text)): \n",
    "    if containenglish(text[i]) == True and containenglish(title[i]) == True:\n",
    "        if (detect(text[i]) == 'en') and (detect(title[i]) == 'en'):\n",
    "            Sum_label.append(ChangeLabel(label[i]))\n",
    "            Title_list.append(title[i]+text[i])\n"
   ]
  },
  {
   "cell_type": "markdown",
   "metadata": {},
   "source": [
    "## Show TURE news and FAKE news fraction"
   ]
  },
  {
   "cell_type": "code",
   "execution_count": 38,
   "metadata": {},
   "outputs": [
    {
     "data": {
      "image/png": "[encoded data removed]",
      "text/plain": [
       "<Figure size 432x288 with 1 Axes>"
      ]
     },
     "metadata": {},
     "output_type": "display_data"
    }
   ],
   "source": [
    "number_real = 0\n",
    "for i in Text_label:\n",
    "    if i == 1:\n",
    "        number_real = number_real + 1\n",
    "AllLabel = len(Text_label)\n",
    "fracREAL = number_real/AllLabel\n",
    "fracFAKE = 1 - fracREAL\n",
    "\n",
    "labels = ['REAL', 'FAKE']\n",
    "values = [fracREAL, fracFAKE]\n",
    "colors = ['red','blue']\n",
    "explode = [0.3,0]\n",
    "\n",
    "plt.title('Data Fraction')\n",
    "plt.pie(values,labels=labels,colors=colors,explode=explode,startangle=90)\n",
    "\n",
    "plt.axis('equal')\n",
    "plt.show()"
   ]
  },
  {
   "cell_type": "code",
   "execution_count": 8,
   "metadata": {},
   "outputs": [],
   "source": [
    "import nltk\n",
    "# Transform each review string as a list of token strings. Use text here because text is as same as Eng_list\n",
    "tokenized = [nltk.word_tokenize(review) for review in Text_list]\n",
    "tokenized_title = [nltk.word_tokenize(review) for review in Title_list]"
   ]
  },
  {
   "cell_type": "markdown",
   "metadata": {},
   "source": [
    "## Clean stopwords and punctuation"
   ]
  },
  {
   "cell_type": "code",
   "execution_count": 10,
   "metadata": {},
   "outputs": [],
   "source": [
    "from nltk.corpus import stopwords\n",
    "from string import punctuation\n",
    "from itertools import chain\n",
    "\n",
    "def clean_text(tokenized_list, sw, punct, lemmatize=False):\n",
    "    new_list = []\n",
    "    for doc in tokenized_list:\n",
    "        new_list.append([token.lower() for token in doc if token.lower() not in chain(punct, sw)])\n",
    "    return new_list\n",
    "\n",
    "# Remove punctuations and stopwords, and lower-case text\n",
    "sw = stopwords.words('english')\n",
    "punct = punctuation\n",
    "cleaned = clean_text(tokenized, sw, punct)\n",
    "cleaned_title = clean_text(tokenized_title, sw, punct)"
   ]
  },
  {
   "cell_type": "markdown",
   "metadata": {},
   "source": [
    "## Clean meanless symbols and url"
   ]
  },
  {
   "cell_type": "code",
   "execution_count": 11,
   "metadata": {},
   "outputs": [],
   "source": [
    "import re\n",
    "for idx in range(len(cleaned)):\n",
    "    cleaned[idx] = re.sub(r'@([A-Za-z0-9_]+)', \"\", str(cleaned[idx]))\n",
    "    cleaned[idx] = re.sub(r\"(https|http)\\S+\", \"\", str(cleaned[idx]))\n",
    "    cleaned[idx] = re.sub(r\"”|’|“|–|—\", \"\", str(cleaned[idx]))\n",
    "    \n",
    "for idx in range(len(cleaned_title)):\n",
    "    cleaned_title[idx] = re.sub(r'@([A-Za-z0-9_]+)', \"\", str(cleaned_title[idx]))\n",
    "    cleaned_title[idx] = re.sub(r\"(https|http)\\S+\", \"\", str(cleaned_title[idx]))\n",
    "    cleaned_title[idx] = re.sub(r\"”|’|“|–|—\", \"\", str(cleaned_title[idx]))"
   ]
  },
  {
   "cell_type": "code",
   "execution_count": 12,
   "metadata": {},
   "outputs": [],
   "source": [
    "import spacy\n",
    "nlp = spacy.load('en_core_web_sm')\n",
    "# Update puncuation list in spacy\n",
    "nlp.vocab[\"$\"].is_punct = True\n",
    "nlp.vocab[\"|\"].is_punct = True\n",
    "nlp.vocab[\"+\"].is_punct = True\n",
    "nlp.vocab[\"<\"].is_punct = True\n",
    "nlp.vocab[\">\"].is_punct = True\n",
    "nlp.vocab[\"=\"].is_punct = True\n",
    "nlp.vocab[\"^\"].is_punct = True\n",
    "nlp.vocab[\"`\"].is_punct = True\n",
    "nlp.vocab[\"~\"].is_stop = True\n",
    "nlp.vocab[\"s\"].is_stop = True\n",
    "#nlp.vocab[\"t\"].is_stop = True # change to not"
   ]
  },
  {
   "cell_type": "markdown",
   "metadata": {},
   "source": [
    "## Lemmatize text "
   ]
  },
  {
   "cell_type": "code",
   "execution_count": 13,
   "metadata": {},
   "outputs": [],
   "source": [
    "# helper function to eliminate tokens that are pure punctuation, whitespace, or stopword\n",
    "# can be updated based on desired filtering \n",
    "\n",
    "def process_txt(token):\n",
    "    return token.is_punct or token.is_space or token.is_stop or token.like_num"
   ]
  },
  {
   "cell_type": "code",
   "execution_count": 14,
   "metadata": {},
   "outputs": [],
   "source": [
    "# function to take array of articles and turn them into nested list of tokens\n",
    "def lemmatize_txt(array):\n",
    "    lemma = []\n",
    "    \n",
    "    for doc in nlp.pipe(array, batch_size=50,\n",
    "                        n_threads=-1):\n",
    "        if doc.is_parsed:\n",
    "            lemma.append([n.lemma_ for n in doc if not process_txt(n)])\n",
    "        \n",
    "        else:\n",
    "            lemma.append(None)\n",
    "    \n",
    "    return lemma"
   ]
  },
  {
   "cell_type": "code",
   "execution_count": 15,
   "metadata": {},
   "outputs": [],
   "source": [
    "# Create nested list of tokens for each article\n",
    "lem = lemmatize_txt(cleaned)\n",
    "lem_title = lemmatize_txt(cleaned_title)"
   ]
  },
  {
   "cell_type": "markdown",
   "metadata": {},
   "source": [
    "## Convert list of list to list of string"
   ]
  },
  {
   "cell_type": "code",
   "execution_count": 16,
   "metadata": {},
   "outputs": [],
   "source": [
    "newLem = []\n",
    "newLem_title = []\n",
    "for doc in lem: \n",
    "    finalString = ', '.join(doc)\n",
    "    newLem.append(finalString)\n",
    "    \n",
    "for doc in lem_title: \n",
    "    finalString = ', '.join(doc)\n",
    "    newLem_title.append(finalString)"
   ]
  },
  {
   "cell_type": "markdown",
   "metadata": {},
   "source": [
    "# Jiahao Part"
   ]
  },
  {
   "cell_type": "markdown",
   "metadata": {},
   "source": [
    "## preprocessing the text， using TF-IDF"
   ]
  },
  {
   "cell_type": "code",
   "execution_count": 18,
   "metadata": {},
   "outputs": [],
   "source": [
    "#validation set\n",
    "\n",
    "#split data into training set and test set\n",
    "from sklearn.model_selection import train_test_split\n",
    "\n",
    "X1 = newLem\n",
    "Y1 = Text_label\n",
    "X2 = newLem_title\n",
    "Y2 = Sum_label\n",
    "x_train1, x_test1, y_train1, y_test1 = train_test_split(X1, Y1, test_size = 0.33, stratify = Y1)\n",
    "\n",
    "x_train2, x_test2, y_train2, y_test2 = train_test_split(X2, Y2, test_size = 0.33, stratify = Y2)"
   ]
  },
  {
   "cell_type": "code",
   "execution_count": 19,
   "metadata": {},
   "outputs": [],
   "source": [
    "#build the model\n",
    "from sklearn.feature_extraction.text import TfidfVectorizer\n",
    "tdf1 = TfidfVectorizer()\n",
    "tdf2 = TfidfVectorizer()\n",
    "x_tfidf_train1 = tdf1.fit_transform(x_train1)\n",
    "x_tfidf_test1 = tdf1.transform(x_test1)\n",
    "x_tfidf_train2 = tdf2.fit_transform(x_train2)\n",
    "x_tfidf_test2 = tdf2.transform(x_test2)"
   ]
  },
  {
   "cell_type": "code",
   "execution_count": 20,
   "metadata": {},
   "outputs": [
    {
     "name": "stdout",
     "output_type": "stream",
     "text": [
      "0.8942376096751244\n",
      "0.8431183830606352\n"
     ]
    }
   ],
   "source": [
    "#assess this model,using naive bayes\n",
    "from sklearn.naive_bayes import MultinomialNB\n",
    "tdf_model = MultinomialNB().fit(x_tfidf_train1, y_train1)\n",
    "train_score = tdf_model.score(x_tfidf_train1, y_train1)\n",
    "test_score = tdf_model.score(x_tfidf_test1, y_test1)\n",
    "print(train_score)\n",
    "print(test_score)"
   ]
  },
  {
   "cell_type": "markdown",
   "metadata": {},
   "source": [
    "## preprocessing the text， using doc2vec"
   ]
  },
  {
   "cell_type": "code",
   "execution_count": 21,
   "metadata": {},
   "outputs": [],
   "source": [
    "#build the dictionary and corpus\n",
    "from gensim import corpora\n",
    "\n",
    "dictionary1 = corpora.Dictionary([cleaned])\n",
    "dictionary2 = corpora.Dictionary([cleaned_title])\n",
    "corpus1 = [dictionary1.doc2bow([text]) for text in cleaned]\n",
    "corpus2 = [dictionary2.doc2bow([text]) for text in cleaned_title]"
   ]
  },
  {
   "cell_type": "code",
   "execution_count": 22,
   "metadata": {},
   "outputs": [],
   "source": [
    "#Build a vocabulary\n",
    "from gensim.models.doc2vec import TaggedDocument\n",
    "vocabulary1 = [TaggedDocument(doc, tags=[idx]) for idx, doc in enumerate(cleaned)]\n",
    "vocabulary2 = [TaggedDocument(doc, tags=[idx]) for idx, doc in enumerate(cleaned_title)]"
   ]
  },
  {
   "cell_type": "code",
   "execution_count": 24,
   "metadata": {},
   "outputs": [],
   "source": [
    "from gensim.models import Doc2Vec\n",
    "import numpy as np\n",
    "doc2vec1 = Doc2Vec(vector_size=300, window=5, min_count=5, dm = 1, epochs=10)\n",
    "doc2vec2 = Doc2Vec(vector_size=300, window=5, min_count=5, dm = 1, epochs=10)\n",
    "doc2vec1.build_vocab(vocabulary1)\n",
    "doc2vec2.build_vocab(vocabulary2)\n",
    "\n",
    "#Train the d2v model\n",
    "doc2vec1.train(vocabulary1, epochs=10, total_examples=doc2vec1.corpus_count)\n",
    "doc2vec2.train(vocabulary2, epochs=10, total_examples=doc2vec2.corpus_count)\n",
    "\n",
    "#Build a new matrix that can fit classifier\n",
    "doc2vec_list1 = np.zeros((len(cleaned),300))\n",
    "doc2vec_list2 = np.zeros((len(cleaned_title),300))\n",
    "for i in range (len(cleaned)):\n",
    "    doc2vec_list1[i] = doc2vec1.infer_vector([cleaned[i]])\n",
    "    \n",
    "for i in range (len(cleaned_title)):\n",
    "    doc2vec_list2[i] = doc2vec2.infer_vector([cleaned_title[i]])\n"
   ]
  },
  {
   "cell_type": "code",
   "execution_count": 25,
   "metadata": {},
   "outputs": [],
   "source": [
    "X1 = doc2vec_list1\n",
    "Y1 = Text_label\n",
    "X2 = doc2vec_list2\n",
    "Y2 = Sum_label\n",
    "x_train1, x_test1, y_train1, y_test1 = train_test_split(X1, Y1, test_size = 0.33, stratify = Y1)\n",
    "x_train2, x_test2, y_train2, y_test2 = train_test_split(X2, Y2, test_size = 0.33, stratify = Y2)"
   ]
  },
  {
   "cell_type": "markdown",
   "metadata": {},
   "source": [
    "# Hongyu Part"
   ]
  },
  {
   "cell_type": "markdown",
   "metadata": {},
   "source": [
    "## Xgboost Classfier"
   ]
  },
  {
   "cell_type": "code",
   "execution_count": 26,
   "metadata": {},
   "outputs": [
    {
     "name": "stdout",
     "output_type": "stream",
     "text": [
      "Collecting package metadata (repodata.json): ...working... done\n",
      "Solving environment: ...working... failed\n"
     ]
    },
    {
     "name": "stderr",
     "output_type": "stream",
     "text": [
      "\n",
      "PackagesNotFoundError: The following packages are not available from current channels:\n",
      "\n",
      "  - xgboost\n",
      "\n",
      "Current channels:\n",
      "\n",
      "  - https://conda.anaconda.org/conda-forge/win-64\n",
      "  - https://conda.anaconda.org/conda-forge/noarch\n",
      "  - https://repo.anaconda.com/pkgs/main/win-64\n",
      "  - https://repo.anaconda.com/pkgs/main/noarch\n",
      "  - https://repo.anaconda.com/pkgs/r/win-64\n",
      "  - https://repo.anaconda.com/pkgs/r/noarch\n",
      "  - https://repo.anaconda.com/pkgs/msys2/win-64\n",
      "  - https://repo.anaconda.com/pkgs/msys2/noarch\n",
      "\n",
      "To search for alternate channels that may provide the conda package you're\n",
      "looking for, navigate to\n",
      "\n",
      "    https://anaconda.org\n",
      "\n",
      "and use the search bar at the top of the page.\n",
      "\n",
      "\n"
     ]
    },
    {
     "name": "stdout",
     "output_type": "stream",
     "text": [
      "\n",
      "Note: you may need to restart the kernel to use updated packages.\n"
     ]
    }
   ],
   "source": [
    "conda install -c conda-forge xgboost"
   ]
  },
  {
   "cell_type": "code",
   "execution_count": 27,
   "metadata": {},
   "outputs": [],
   "source": [
    "import matplotlib.pyplot as plt\n",
    "import seaborn\n",
    "%matplotlib inline"
   ]
  },
  {
   "cell_type": "code",
   "execution_count": 28,
   "metadata": {},
   "outputs": [
    {
     "name": "stderr",
     "output_type": "stream",
     "text": [
      "C:\\Users\\pipi\\Anaconda3\\lib\\site-packages\\sklearn\\linear_model\\logistic.py:433: FutureWarning: Default solver will be changed to 'lbfgs' in 0.22. Specify a solver to silence this warning.\n",
      "  FutureWarning)\n"
     ]
    },
    {
     "data": {
      "text/plain": [
       "0.5055387713997986"
      ]
     },
     "execution_count": 28,
     "metadata": {},
     "output_type": "execute_result"
    }
   ],
   "source": [
    "from sklearn.linear_model import LogisticRegression\n",
    "\n",
    "model = LogisticRegression()\n",
    "model = model.fit(x_train2, y_train2)\n",
    "\n",
    "y_pred = model.predict(x_test2)\n",
    "\n",
    "# check the accuracy on the training set\n",
    "model.score(x_test2, y_test2)"
   ]
  },
  {
   "cell_type": "code",
   "execution_count": 29,
   "metadata": {},
   "outputs": [
    {
     "name": "stdout",
     "output_type": "stream",
     "text": [
      "              precision    recall  f1-score   support\n",
      "\n",
      "Not Admitted       0.49      0.46      0.47       982\n",
      "    Admitted       0.50      0.53      0.52      1004\n",
      "\n",
      "   micro avg       0.49      0.49      0.49      1986\n",
      "   macro avg       0.49      0.49      0.49      1986\n",
      "weighted avg       0.49      0.49      0.49      1986\n",
      "\n"
     ]
    }
   ],
   "source": [
    "import os\n",
    "\n",
    "os.environ['KMP_DUPLICATE_LIB_OK']='True'\n",
    "\n",
    "from sklearn.metrics import classification_report\n",
    "from xgboost import XGBClassifier\n",
    "\n",
    "XGmodel = XGBClassifier(max_depth=10, learning_rate=0.3, \n",
    "                        n_estimators=1000, silent=True, \n",
    "                        objective='binary:logistic', nthread=-1, \n",
    "                        gamma=0, min_child_weight=1, max_delta_step=0, \n",
    "                        subsample=0.7, colsample_bytree=1, \n",
    "                        colsample_bylevel=1, reg_alpha=0,            \n",
    "                        reg_lambda=1, scale_pos_weight=1, \n",
    "                        base_score=0.5, seed=0, missing=None)\n",
    "\n",
    "XGmodel.fit(x_train2, y_train2)\n",
    "\n",
    "y_pred = XGmodel.predict(x_test2)\n",
    "\n",
    "target_names = ['Not Admitted', 'Admitted']\n",
    "\n",
    "print(classification_report(y_test2, y_pred, target_names=target_names))"
   ]
  },
  {
   "cell_type": "code",
   "execution_count": null,
   "metadata": {},
   "outputs": [],
   "source": []
  },
  {
   "cell_type": "code",
   "execution_count": null,
   "metadata": {},
   "outputs": [],
   "source": []
  },
  {
   "cell_type": "code",
   "execution_count": null,
   "metadata": {},
   "outputs": [],
   "source": []
  },
  {
   "cell_type": "code",
   "execution_count": null,
   "metadata": {},
   "outputs": [],
   "source": []
  }
 ],
 "metadata": {
  "kernelspec": {
   "display_name": "Python 3",
   "language": "python",
   "name": "python3"
  },
  "language_info": {
   "codemirror_mode": {
    "name": "ipython",
    "version": 3
   },
   "file_extension": ".py",
   "mimetype": "text/x-python",
   "name": "python",
   "nbconvert_exporter": "python",
   "pygments_lexer": "ipython3",
   "version": "3.7.3"
  }
 },
 "nbformat": 4,
 "nbformat_minor": 2
}
