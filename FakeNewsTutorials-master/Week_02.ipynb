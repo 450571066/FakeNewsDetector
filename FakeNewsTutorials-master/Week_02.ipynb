{
 "cells": [
  {
   "cell_type": "markdown",
   "metadata": {
    "toc": "true"
   },
   "source": [
    "# Table of Contents\n",
    " <p><div class=\"lev1 toc-item\"><a href=\"#Setup\" data-toc-modified-id=\"Setup-1\"><span class=\"toc-item-num\">1&nbsp;&nbsp;</span>Setup</a></div><div class=\"lev1 toc-item\"><a href=\"#Semantics\" data-toc-modified-id=\"Semantics-2\"><span class=\"toc-item-num\">2&nbsp;&nbsp;</span>Semantics</a></div><div class=\"lev2 toc-item\"><a href=\"#Motivation\" data-toc-modified-id=\"Motivation-21\"><span class=\"toc-item-num\">2.1&nbsp;&nbsp;</span>Motivation</a></div><div class=\"lev2 toc-item\"><a href=\"#Term-Document\" data-toc-modified-id=\"Term-Document-22\"><span class=\"toc-item-num\">2.2&nbsp;&nbsp;</span>Term-Document</a></div><div class=\"lev3 toc-item\"><a href=\"#Bag-of-Words\" data-toc-modified-id=\"Bag-of-Words-221\"><span class=\"toc-item-num\">2.2.1&nbsp;&nbsp;</span>Bag-of-Words</a></div><div class=\"lev4 toc-item\"><a href=\"#Cleaning-Text-Data\" data-toc-modified-id=\"Cleaning-Text-Data-2211\"><span class=\"toc-item-num\">2.2.1.1&nbsp;&nbsp;</span>Cleaning Text Data</a></div><div class=\"lev4 toc-item\"><a href=\"#Stemming-and-Lemmatizing\" data-toc-modified-id=\"Stemming-and-Lemmatizing-2212\"><span class=\"toc-item-num\">2.2.1.2&nbsp;&nbsp;</span>Stemming and Lemmatizing</a></div><div class=\"lev3 toc-item\"><a href=\"#TF-IDF\" data-toc-modified-id=\"TF-IDF-222\"><span class=\"toc-item-num\">2.2.2&nbsp;&nbsp;</span>TF-IDF</a></div><div class=\"lev2 toc-item\"><a href=\"#Term-Context\" data-toc-modified-id=\"Term-Context-23\"><span class=\"toc-item-num\">2.3&nbsp;&nbsp;</span>Term-Context</a></div><div class=\"lev1 toc-item\"><a href=\"#Word2Vec\" data-toc-modified-id=\"Word2Vec-3\"><span class=\"toc-item-num\">3&nbsp;&nbsp;</span>Word2Vec</a></div><div class=\"lev2 toc-item\"><a href=\"#Continuous-Bag-of-Words\" data-toc-modified-id=\"Continuous-Bag-of-Words-31\"><span class=\"toc-item-num\">3.1&nbsp;&nbsp;</span>Continuous Bag of Words</a></div><div class=\"lev2 toc-item\"><a href=\"#Skip-gram\" data-toc-modified-id=\"Skip-gram-32\"><span class=\"toc-item-num\">3.2&nbsp;&nbsp;</span>Skip-gram</a></div><div class=\"lev2 toc-item\"><a href=\"#Example\" data-toc-modified-id=\"Example-33\"><span class=\"toc-item-num\">3.3&nbsp;&nbsp;</span>Example</a></div><div class=\"lev1 toc-item\"><a href=\"#Doc2Vec\" data-toc-modified-id=\"Doc2Vec-4\"><span class=\"toc-item-num\">4&nbsp;&nbsp;</span>Doc2Vec</a></div><div class=\"lev2 toc-item\"><a href=\"#Doc2Vec,-the-most-powerful-extension-of-word2vec\" data-toc-modified-id=\"Doc2Vec,-the-most-powerful-extension-of-word2vec-41\"><span class=\"toc-item-num\">4.1&nbsp;&nbsp;</span>Doc2Vec, the most powerful extension of word2vec</a></div><div class=\"lev2 toc-item\"><a href=\"#Distrubted-Memory-(DM)\" data-toc-modified-id=\"Distrubted-Memory-(DM)-42\"><span class=\"toc-item-num\">4.2&nbsp;&nbsp;</span>Distrubted Memory (DM)</a></div><div class=\"lev2 toc-item\"><a href=\"#Distrubted-Bag-of-Words-(DBOW)\" data-toc-modified-id=\"Distrubted-Bag-of-Words-(DBOW)-43\"><span class=\"toc-item-num\">4.3&nbsp;&nbsp;</span>Distrubted Bag of Words (DBOW)</a></div><div class=\"lev1 toc-item\"><a href=\"#Exercises\" data-toc-modified-id=\"Exercises-5\"><span class=\"toc-item-num\">5&nbsp;&nbsp;</span>Exercises</a></div>"
   ]
  },
  {
   "cell_type": "markdown",
   "metadata": {},
   "source": [
    "# Setup\n",
    "----"
   ]
  },
  {
   "cell_type": "markdown",
   "metadata": {},
   "source": [
    "This notebook assumes you have done the setup required in Week 1.\n",
    "\n",
    "In this lecture we will be using Gensim and NLTK, two widely used Python Natural Language Processing libraries."
   ]
  },
  {
   "cell_type": "code",
   "execution_count": 5,
   "metadata": {},
   "outputs": [],
   "source": [
    "reset -f -s"
   ]
  },
  {
   "cell_type": "code",
   "execution_count": 6,
   "metadata": {},
   "outputs": [],
   "source": [
    "def pip_install(*packages):\n",
    "    '''\n",
    "    Author: Sy Hwang, Hollis Nolan, Shuheng Liu \n",
    "    \n",
    "    Install packages using pip\n",
    "    Alternatively just use command line\n",
    "    pip install package_name\n",
    "    '''\n",
    "    import pip\n",
    "    if int(pip.__version__.split(\".\")[0]) >= 10:  # since 10.0.0, pip does not support pip.main() any more\n",
    "        from pip._internal import main\n",
    "    else:\n",
    "        from pip import main\n",
    "\n",
    "    for package in packages:\n",
    "        try:\n",
    "            main([\"install\", \"--upgrade\", package, \"--user\"])\n",
    "        except Exception as e:\n",
    "            print(\"Unable to install {} using pip.\".format(package))\n",
    "            print(\"Exception:\", e)"
   ]
  },
  {
   "cell_type": "code",
   "execution_count": null,
   "metadata": {},
   "outputs": [],
   "source": []
  },
  {
   "cell_type": "code",
   "execution_count": 7,
   "metadata": {},
   "outputs": [
    {
     "name": "stdout",
     "output_type": "stream",
     "text": [
      "Collecting gensim\n",
      "  Using cached https://files.pythonhosted.org/packages/3a/bc/1415be59292a23ff123298b4b46ec4be80b3bfe72c8d188b58ab2653dee4/gensim-3.8.0.tar.gz\n",
      "Requirement already satisfied, skipping upgrade: numpy>=1.11.3 in c:\\users\\pipi\\anaconda3\\lib\\site-packages (from gensim) (1.16.2)\n",
      "Requirement already satisfied, skipping upgrade: scipy>=0.18.1 in c:\\users\\pipi\\anaconda3\\lib\\site-packages (from gensim) (1.2.1)\n",
      "Requirement already satisfied, skipping upgrade: six>=1.5.0 in c:\\users\\pipi\\anaconda3\\lib\\site-packages (from gensim) (1.12.0)\n",
      "Collecting smart_open>=1.7.0 (from gensim)\n"
     ]
    },
    {
     "name": "stderr",
     "output_type": "stream",
     "text": [
      "  Cache entry deserialization failed, entry ignored\n"
     ]
    },
    {
     "name": "stdout",
     "output_type": "stream",
     "text": [
      "  Downloading https://files.pythonhosted.org/packages/37/c0/25d19badc495428dec6a4bf7782de617ee0246a9211af75b302a2681dea7/smart_open-1.8.4.tar.gz (63kB)\n",
      "Requirement already satisfied, skipping upgrade: boto>=2.32 in c:\\users\\pipi\\anaconda3\\lib\\site-packages (from smart_open>=1.7.0->gensim) (2.49.0)\n",
      "Requirement already satisfied, skipping upgrade: requests in c:\\users\\pipi\\anaconda3\\lib\\site-packages (from smart_open>=1.7.0->gensim) (2.21.0)\n",
      "Collecting boto3 (from smart_open>=1.7.0->gensim)\n"
     ]
    },
    {
     "name": "stderr",
     "output_type": "stream",
     "text": [
      "  Cache entry deserialization failed, entry ignored\n"
     ]
    },
    {
     "name": "stdout",
     "output_type": "stream",
     "text": [
      "  Downloading https://files.pythonhosted.org/packages/fb/e5/7ff9a5f23b3e94aefccc18f9d2493ddbeb31725986ab5ae4552387381e01/boto3-1.9.198-py2.py3-none-any.whl (128kB)\n",
      "Requirement already satisfied, skipping upgrade: chardet<3.1.0,>=3.0.2 in c:\\users\\pipi\\anaconda3\\lib\\site-packages (from requests->smart_open>=1.7.0->gensim) (3.0.4)\n",
      "Requirement already satisfied, skipping upgrade: idna<2.9,>=2.5 in c:\\users\\pipi\\anaconda3\\lib\\site-packages (from requests->smart_open>=1.7.0->gensim) (2.8)\n",
      "Requirement already satisfied, skipping upgrade: certifi>=2017.4.17 in c:\\users\\pipi\\anaconda3\\lib\\site-packages (from requests->smart_open>=1.7.0->gensim) (2019.3.9)\n",
      "Requirement already satisfied, skipping upgrade: urllib3<1.25,>=1.21.1 in c:\\users\\pipi\\anaconda3\\lib\\site-packages (from requests->smart_open>=1.7.0->gensim) (1.24.1)\n",
      "Collecting s3transfer<0.3.0,>=0.2.0 (from boto3->smart_open>=1.7.0->gensim)\n"
     ]
    },
    {
     "name": "stderr",
     "output_type": "stream",
     "text": [
      "  Cache entry deserialization failed, entry ignored\n"
     ]
    },
    {
     "name": "stdout",
     "output_type": "stream",
     "text": [
      "  Downloading https://files.pythonhosted.org/packages/16/8a/1fc3dba0c4923c2a76e1ff0d52b305c44606da63f718d14d3231e21c51b0/s3transfer-0.2.1-py2.py3-none-any.whl (70kB)\n",
      "Collecting jmespath<1.0.0,>=0.7.1 (from boto3->smart_open>=1.7.0->gensim)\n"
     ]
    },
    {
     "name": "stderr",
     "output_type": "stream",
     "text": [
      "  Cache entry deserialization failed, entry ignored\n"
     ]
    },
    {
     "name": "stdout",
     "output_type": "stream",
     "text": [
      "  Downloading https://files.pythonhosted.org/packages/83/94/7179c3832a6d45b266ddb2aac329e101367fbdb11f425f13771d27f225bb/jmespath-0.9.4-py2.py3-none-any.whl\n",
      "Collecting botocore<1.13.0,>=1.12.198 (from boto3->smart_open>=1.7.0->gensim)\n"
     ]
    },
    {
     "name": "stderr",
     "output_type": "stream",
     "text": [
      "  Cache entry deserialization failed, entry ignored\n"
     ]
    },
    {
     "name": "stdout",
     "output_type": "stream",
     "text": [
      "  Downloading https://files.pythonhosted.org/packages/8b/2d/74e83c1cc3e8ab5c9675b2990af2f4c2a7b66379627deef4b08780fe6b23/botocore-1.12.198-py2.py3-none-any.whl (5.6MB)\n",
      "Requirement already satisfied, skipping upgrade: docutils<0.15,>=0.10 in c:\\users\\pipi\\anaconda3\\lib\\site-packages (from botocore<1.13.0,>=1.12.198->boto3->smart_open>=1.7.0->gensim) (0.14)\n",
      "Requirement already satisfied, skipping upgrade: python-dateutil<3.0.0,>=2.1; python_version >= \"2.7\" in c:\\users\\pipi\\anaconda3\\lib\\site-packages (from botocore<1.13.0,>=1.12.198->boto3->smart_open>=1.7.0->gensim) (2.8.0)\n",
      "Building wheels for collected packages: gensim, smart-open\n",
      "  Building wheel for gensim (setup.py): started\n",
      "  Building wheel for gensim (setup.py): finished with status 'done'\n",
      "  Stored in directory: C:\\Users\\pipi\\AppData\\Local\\pip\\Cache\\wheels\\2c\\19\\c6\\bf38e867cb6e75999e3ff80302eb27bdf488b333efadfbfed7\n",
      "  Building wheel for smart-open (setup.py): started\n",
      "  Building wheel for smart-open (setup.py): finished with status 'done'\n",
      "  Stored in directory: C:\\Users\\pipi\\AppData\\Local\\pip\\Cache\\wheels\\5f\\ea\\fb\\5b1a947b369724063b2617011f1540c44eb00e28c3d2ca8692\n",
      "Successfully built gensim smart-open\n",
      "Installing collected packages: jmespath, botocore, s3transfer, boto3, smart-open, gensim\n",
      "Successfully installed boto3-1.9.198 botocore-1.12.198 gensim-3.8.0 jmespath-0.9.4 s3transfer-0.2.1 smart-open-1.8.4\n",
      "Collecting nltk\n",
      "  Downloading https://files.pythonhosted.org/packages/87/16/4d247e27c55a7b6412e7c4c86f2500ae61afcbf5932b9e3491f8462f8d9e/nltk-3.4.4.zip (1.5MB)\n"
     ]
    },
    {
     "name": "stderr",
     "output_type": "stream",
     "text": [
      "Could not install packages due to an EnvironmentError: [Errno 2] No such file or directory: 'C:\\\\Users\\\\pipi\\\\AppData\\\\Local\\\\Temp\\\\pip-req-tracker-_jz44m28\\\\b3095b1324fb85a822887988cbb36067fa60285c59804dcfe133f1c4'\n",
      "\n"
     ]
    }
   ],
   "source": [
    "pip_install('gensim', 'nltk')"
   ]
  },
  {
   "cell_type": "code",
   "execution_count": 8,
   "metadata": {},
   "outputs": [
    {
     "name": "stderr",
     "output_type": "stream",
     "text": [
      "[nltk_data] Downloading package gutenberg to\n",
      "[nltk_data]     C:\\Users\\pipi\\AppData\\Roaming\\nltk_data...\n",
      "[nltk_data]   Unzipping corpora\\gutenberg.zip.\n",
      "[nltk_data] Downloading package reuters to\n",
      "[nltk_data]     C:\\Users\\pipi\\AppData\\Roaming\\nltk_data...\n",
      "[nltk_data] Downloading package stopwords to\n",
      "[nltk_data]     C:\\Users\\pipi\\AppData\\Roaming\\nltk_data...\n",
      "[nltk_data]   Unzipping corpora\\stopwords.zip.\n",
      "[nltk_data] Downloading package punkt to\n",
      "[nltk_data]     C:\\Users\\pipi\\AppData\\Roaming\\nltk_data...\n",
      "[nltk_data]   Unzipping tokenizers\\punkt.zip.\n"
     ]
    },
    {
     "data": {
      "text/plain": [
       "True"
      ]
     },
     "execution_count": 8,
     "metadata": {},
     "output_type": "execute_result"
    }
   ],
   "source": [
    "import nltk\n",
    "nltk.download('gutenberg')\n",
    "nltk.download('reuters')\n",
    "nltk.download('stopwords')\n",
    "nltk.download('punkt')"
   ]
  },
  {
   "cell_type": "code",
   "execution_count": 9,
   "metadata": {},
   "outputs": [],
   "source": [
    "import os\n",
    "ROOTDIR = os.path.abspath(os.path.dirname('__file__'))\n",
    "DATADIR = os.path.join(ROOTDIR, 'data')"
   ]
  },
  {
   "cell_type": "markdown",
   "metadata": {},
   "source": [
    "# Semantics\n",
    "---"
   ]
  },
  {
   "cell_type": "markdown",
   "metadata": {},
   "source": [
    "## Motivation"
   ]
  },
  {
   "cell_type": "markdown",
   "metadata": {},
   "source": [
    "If we want to be able to categorize text, we need to be able to generate features for articles, paragraphs, sentences and other bodies of text, based on the information they contain and what they represent. There are a number of ways to achieve this and we will go over 3 approaches."
   ]
  },
  {
   "cell_type": "markdown",
   "metadata": {},
   "source": [
    "## Term-Document"
   ]
  },
  {
   "cell_type": "markdown",
   "metadata": {},
   "source": [
    "### Bag-of-Words\n",
    "\n",
    "One of the simplest ways to extract features from text is to just count how many times a word appears in a body of text. In this model, the order of words does not matter and only the number of occurrences of each unique term for each document is taken into account."
   ]
  },
  {
   "cell_type": "code",
   "execution_count": 10,
   "metadata": {},
   "outputs": [],
   "source": [
    "import pandas as pd\n",
    "\n",
    "#Load movie reviews dataset\n",
    "df = pd.read_csv(os.path.join(DATADIR, 'movie_reviews.csv'), nrows=100000)\n",
    "texts = df.text.values #pd.Series -> np.ndarray"
   ]
  },
  {
   "cell_type": "code",
   "execution_count": 11,
   "metadata": {},
   "outputs": [],
   "source": [
    "import nltk\n",
    "# Transform each review string as a list of token strings. May take a few seconds\n",
    "tokenized = [nltk.word_tokenize(review) for review in texts]"
   ]
  },
  {
   "cell_type": "code",
   "execution_count": 12,
   "metadata": {},
   "outputs": [
    {
     "name": "stdout",
     "output_type": "stream",
     "text": [
      "Example review:\n",
      "   Raw: So ingenious in concept, design and execution that you could watch it on a postage stamp-sized screen and still be engulfed by its charm. \n",
      "\n",
      "   Tokenized: ['So', 'ingenious', 'in', 'concept', ',', 'design', 'and', 'execution', 'that', 'you', 'could', 'watch', 'it', 'on', 'a', 'postage', 'stamp-sized', 'screen', 'and', 'still', 'be', 'engulfed', 'by', 'its', 'charm', '.']\n"
     ]
    }
   ],
   "source": [
    "n = 10 #arbitrary pick\n",
    "print('Example review:\\n   Raw: {} \\n\\n   Tokenized: {}'.format(texts[n], [i for i in tokenized[n]]))"
   ]
  },
  {
   "cell_type": "markdown",
   "metadata": {
    "collapsed": true
   },
   "source": [
    "#### Cleaning Text Data"
   ]
  },
  {
   "cell_type": "markdown",
   "metadata": {},
   "source": [
    "##### Removing Stopwords and Punctuations, Lower-case"
   ]
  },
  {
   "cell_type": "markdown",
   "metadata": {},
   "source": [
    "- Sometimes it's useful to drop __Stopwords__ when breaking down documents into units of tokens. Stopwords are terms that appear so frequently in a corpus that they provide little to no informative value to the task at hand. Common stopwords include words like *the*, *of*, *to*, and *for*.   \n",
    "- __Punctuations__ are very much the same; while they may provide linguistic context, punctuations can sometimes be too common to provide any value.\n",
    "\n",
    "Let's take a look at the most common tokens in our movie reviews dataset:"
   ]
  },
  {
   "cell_type": "code",
   "execution_count": 13,
   "metadata": {
    "scrolled": true
   },
   "outputs": [
    {
     "name": "stdout",
     "output_type": "stream",
     "text": [
      " 1.    .  freq:  102815\n",
      " 2.    ,  freq:   97049\n",
      " 3.  the  freq:   94390\n",
      " 4.    a  freq:   66933\n",
      " 5.   of  freq:   58012\n",
      " 6.  and  freq:   57274\n",
      " 7.   to  freq:   36228\n",
      " 8.   's  freq:   34515\n",
      " 9.   is  freq:   33891\n",
      "10.   it  freq:   30890\n"
     ]
    }
   ],
   "source": [
    "from collections import Counter\n",
    "\n",
    "#Note that we convert all tokens to lower case, otherwise words like *The* and *the* are different tokens.\n",
    "token_counter = Counter(token.lower() for sentence in tokenized for token in sentence)\n",
    "top10 = token_counter.most_common()[:10]\n",
    "for i, t in enumerate(top10):\n",
    "    print('{:>2}.{:>5}  freq: {:>7}'.format(i+1, t[0], t[1]))"
   ]
  },
  {
   "cell_type": "markdown",
   "metadata": {},
   "source": [
    "These are all either stopwords or punctuations!  \n",
    "Thankfully there's an easy way to remove them: `nltk` and the built-in `string` module have separate lists of stopwords and punctuations"
   ]
  },
  {
   "cell_type": "markdown",
   "metadata": {},
   "source": [
    "#### Stemming and Lemmatizing"
   ]
  },
  {
   "cell_type": "markdown",
   "metadata": {},
   "source": [
    "- We can also find lots of words that have similar meanings, but differ only by their conjugation and inflections. Sometimes it makes sense to normalize different forms of the same word to a single root token before indexing. There are two ways to do this:\n",
    "    - __Stemming__: heuristic approach that chops off the endings of different forms of words, trying to return the root morpheme that stays the same even with varying inflections.\n",
    "        - Example:\n",
    "            - I saw that movie and it was terrible $\\rightarrow$ I saw that movi and it wa terribl\n",
    "            - informative informational inform informing $\\rightarrow$ inform inform inform inform     \n",
    "\n",
    "    - __Lemmatizing__: returns the derivational normal form or the dictionary form of the word, called the lemma\n",
    "        - Example:\n",
    "            - I saw that movie and it was terrible $\\rightarrow$ I see that movie and it be terrible\n",
    "            - am are is be $\\rightarrow$ be be be be\n",
    "            "
   ]
  },
  {
   "cell_type": "markdown",
   "metadata": {},
   "source": [
    "![](images/preprocessing_text.png)"
   ]
  },
  {
   "cell_type": "code",
   "execution_count": 14,
   "metadata": {},
   "outputs": [],
   "source": [
    "from nltk.corpus import stopwords\n",
    "from string import punctuation\n",
    "from itertools import chain\n",
    "\n",
    "def clean_text(tokenized_list, sw, punct, lemmatize=False):\n",
    "    new_list = []\n",
    "    for doc in tokenized_list:\n",
    "        new_list.append([token.lower() for token in doc if token.lower() not in chain(punct, sw)])\n",
    "    return new_list\n",
    "\n",
    "# Remove punctuations and stopwords, and lower-case text\n",
    "sw = stopwords.words('english')\n",
    "punct = punctuation\n",
    "cleaned = clean_text(tokenized, sw, punct)"
   ]
  },
  {
   "cell_type": "code",
   "execution_count": 16,
   "metadata": {},
   "outputs": [
    {
     "name": "stdout",
     "output_type": "stream",
     "text": [
      "'pattern' package not found; tag filters are not available for English\n",
      "adding document #0 to Dictionary(0 unique tokens: [])\n",
      "adding document #10000 to Dictionary(19384 unique tokens: ['...', 'entire', 'ever', 'filmgoers', 'generation']...)\n"
     ]
    },
    {
     "name": "stderr",
     "output_type": "stream",
     "text": [
      "C:\\Users\\pipi\\Anaconda3\\lib\\site-packages\\gensim\\utils.py:1197: UserWarning: detected Windows; aliasing chunkize to chunkize_serial\n",
      "  warnings.warn(\"detected Windows; aliasing chunkize to chunkize_serial\")\n"
     ]
    },
    {
     "name": "stdout",
     "output_type": "stream",
     "text": [
      "adding document #20000 to Dictionary(28227 unique tokens: ['...', 'entire', 'ever', 'filmgoers', 'generation']...)\n",
      "adding document #30000 to Dictionary(34412 unique tokens: ['...', 'entire', 'ever', 'filmgoers', 'generation']...)\n",
      "adding document #40000 to Dictionary(39845 unique tokens: ['...', 'entire', 'ever', 'filmgoers', 'generation']...)\n",
      "adding document #50000 to Dictionary(45053 unique tokens: ['...', 'entire', 'ever', 'filmgoers', 'generation']...)\n",
      "adding document #60000 to Dictionary(50133 unique tokens: ['...', 'entire', 'ever', 'filmgoers', 'generation']...)\n",
      "adding document #70000 to Dictionary(54465 unique tokens: ['...', 'entire', 'ever', 'filmgoers', 'generation']...)\n",
      "adding document #80000 to Dictionary(58483 unique tokens: ['...', 'entire', 'ever', 'filmgoers', 'generation']...)\n",
      "adding document #90000 to Dictionary(62720 unique tokens: ['...', 'entire', 'ever', 'filmgoers', 'generation']...)\n",
      "built Dictionary(67641 unique tokens: ['...', 'entire', 'ever', 'filmgoers', 'generation']...) from 100000 documents (total 1149442 corpus positions)\n"
     ]
    }
   ],
   "source": [
    "from gensim import corpora\n",
    "\n",
    "# Create a dictionary from list of documents in order to create BOW model\n",
    "dictionary = corpora.Dictionary(cleaned)"
   ]
  },
  {
   "cell_type": "code",
   "execution_count": 17,
   "metadata": {},
   "outputs": [
    {
     "name": "stdout",
     "output_type": "stream",
     "text": [
      "Example review featurized in Bag of Words :\n",
      " [('still', 1), ('charm', 1), ('concept', 1), ('could', 1), ('design', 1), ('engulfed', 1), ('execution', 1), ('ingenious', 1), ('postage', 1), ('screen', 1), ('stamp-sized', 1), ('watch', 1)]\n"
     ]
    }
   ],
   "source": [
    "# Create a Corpus based on BOW Format.\n",
    "corpus = [dictionary.doc2bow(text) for text in cleaned]\n",
    "print('Example review featurized in Bag of Words :\\n {}'.format([(dictionary[i[0]], i[1]) for i in corpus[n]]))"
   ]
  },
  {
   "cell_type": "markdown",
   "metadata": {},
   "source": [
    "Note that when we use this model to featurize text:\n",
    "- The length of each feature vector will be the size of the vocabulary in the corpus\n",
    "- Thus each body of text will have a lot of zeroes"
   ]
  },
  {
   "cell_type": "markdown",
   "metadata": {},
   "source": [
    "### TF-IDF"
   ]
  },
  {
   "cell_type": "markdown",
   "metadata": {},
   "source": [
    "__Term Frequency__: Number of occurrences of a word in a document  \n",
    "__Inverse Document Frequency__: Number of documents that contain a certain word scaled by a weight  \n",
    "__Term Frequency - Inverse Document Frequency__: (Number of ocurrences of word $w$ in text $T$) * $log$(Number of documents in a corpus/Number of documents containing word $w$)\n",
    "\n"
   ]
  },
  {
   "cell_type": "markdown",
   "metadata": {},
   "source": [
    "Let's check out the TF-IDF scores of the previous movie review we examined."
   ]
  },
  {
   "cell_type": "code",
   "execution_count": 18,
   "metadata": {},
   "outputs": [
    {
     "name": "stdout",
     "output_type": "stream",
     "text": [
      "collecting document frequencies\n",
      "PROGRESS: processing document #0\n",
      "PROGRESS: processing document #10000\n",
      "PROGRESS: processing document #20000\n",
      "PROGRESS: processing document #30000\n",
      "PROGRESS: processing document #40000\n",
      "PROGRESS: processing document #50000\n",
      "PROGRESS: processing document #60000\n",
      "PROGRESS: processing document #70000\n",
      "PROGRESS: processing document #80000\n",
      "PROGRESS: processing document #90000\n",
      "calculating IDF weights for 100000 documents and 67640 features (1110955 matrix non-zeros)\n",
      "Example review featurized with TF-IDF scores : \n",
      "[('still', 0.152), ('charm', 0.206), ('concept', 0.244), ('could', 0.159), ('design', 0.25), ('engulfed', 0.431), ('execution', 0.259), ('ingenious', 0.293), ('postage', 0.414), ('screen', 0.176), ('stamp-sized', 0.458), ('watch', 0.191)]\n"
     ]
    }
   ],
   "source": [
    "from gensim import corpora, models\n",
    "\n",
    "#Create a TFIDF Model for the corpus\n",
    "tfidf = models.TfidfModel(corpus)\n",
    "\n",
    "print('Example review featurized with TF-IDF scores : \\n{}'.format([(dictionary[i[0]], round(i[1],3)) for i in tfidf[corpus[n]]]))"
   ]
  },
  {
   "cell_type": "markdown",
   "metadata": {},
   "source": [
    "Looks much more like a feature vector that we can use for text categorization!  \n",
    "Note that in the TF-IDF model:\n",
    "- If a term frequently occurs in the corpus(i.e. stopwords, the term $like$), it is scaled to a lower score\n",
    "- Rarer terms will generally have higher scores. They tend to be more \"informative\" and descriptive.\n",
    "- A term that occurs frequently in a small number of documents within the corpus will have the highest scores."
   ]
  },
  {
   "cell_type": "markdown",
   "metadata": {},
   "source": [
    "![](images/tfidf.jpg)"
   ]
  },
  {
   "cell_type": "markdown",
   "metadata": {},
   "source": [
    "## Term-Context"
   ]
  },
  {
   "cell_type": "markdown",
   "metadata": {},
   "source": [
    "The vast majority of NLP works regards as atomic symbols: king, queen, book, etc.\n",
    "\n",
    "In vector space terms, this vector has one $1 $ and a lot of zeros.   \n",
    "$king =  [1, 0, 0, 0, 0, 0, 0, 0, 0]$   \n",
    "$queen = [0, 1, 0, 0, 0, 0, 0, 0, 0]$   \n",
    "$book =  [0, 0, 1, 0, 0, 0, 0, 0, 0]$  \n",
    "\n",
    "It is called a \"one-hot\" encoding representation. It is a common way to represent categories in models. However, it is very sparse(as we saw from the BOW model); each row is mostly 0s.  \n",
    "You can get more value by representing a word by its neighorbors"
   ]
  },
  {
   "cell_type": "markdown",
   "metadata": {},
   "source": [
    "Instead of using entire documents, we can use small contexts to a term.\n",
    "- Paragraphs\n",
    "- Sentences\n",
    "- A window of a sequence of consecutive terms\n",
    "\n",
    "In this way, a word is defined over counts of context words. The assumption is that two words that appear in similar contexts are similar themselves."
   ]
  },
  {
   "cell_type": "markdown",
   "metadata": {},
   "source": [
    "But count-based models have disadvantages:\n",
    "- vector sizes become huge, equal to vocabulary size\n",
    "    - sparsity\n",
    "    - curse of dimensionality (Go through [this notebook](https://github.com/mike-tamir/tamir_extras/blob/master/Curse_of_Dim_walkthrough.ipynb) for more detailed information)\n",
    "    - computationally expensive\n",
    "    "
   ]
  },
  {
   "cell_type": "markdown",
   "metadata": {},
   "source": [
    "# Word2Vec"
   ]
  },
  {
   "cell_type": "markdown",
   "metadata": {},
   "source": [
    "Word2Vec is an unsupervised neural network model that maximizes similarity between contextual neighbors while minimizing similarity for unseen contexts.\n",
    "Initial vectors are generated randomly and converge as the models is trained on the corpus through a sliding window.\n",
    "Target Vector sizes are set at the beginning of the training process, so the vectors are dense and do not need dimensionality reduction techniques.\n",
    "\n"
   ]
  },
  {
   "cell_type": "markdown",
   "metadata": {},
   "source": [
    "## Continuous Bag of Words"
   ]
  },
  {
   "cell_type": "markdown",
   "metadata": {},
   "source": [
    "![](images/cbow.png)"
   ]
  },
  {
   "cell_type": "markdown",
   "metadata": {},
   "source": [
    "Training objective is to maiximize the probability of observing the correct target word $w_t$ given context words $w_{c1}, w_{c2}, ... w_{cj}$\n",
    "\n",
    " $$ C = -log p(w_t | w_{c1} ... w_{cj}) $$"
   ]
  },
  {
   "cell_type": "markdown",
   "metadata": {},
   "source": [
    "The prediction vector is set as an average of all the context word vectors"
   ]
  },
  {
   "cell_type": "markdown",
   "metadata": {},
   "source": [
    "## Skip-gram"
   ]
  },
  {
   "cell_type": "markdown",
   "metadata": {},
   "source": [
    "![](images/skip-gram.png)"
   ]
  },
  {
   "cell_type": "markdown",
   "metadata": {},
   "source": [
    "Training objective is to maiximize the probability of observing the correct context words $w_{ci}$ given target word $w_{t}$\n",
    "\n",
    " $$ C = -\\sum^{j}_{i=1}log p(w_{ci} | w_{t}) $$\n",
    " \n",
    "In this case, the prediction vector is the the target word vector."
   ]
  },
  {
   "cell_type": "markdown",
   "metadata": {},
   "source": [
    "## Example"
   ]
  },
  {
   "cell_type": "markdown",
   "metadata": {},
   "source": [
    "Now let's try training our own word embeddings and looking at what we can do with them."
   ]
  },
  {
   "cell_type": "markdown",
   "metadata": {},
   "source": [
    "Word2Vec\n",
    "- `size`: Number of dimensions for the word embedding model\n",
    "- `window`: Number of context words to observe in each direction\n",
    "- `min_count`: Minimum frequency for words included in model\n",
    "- `sg` (Skip-Gram): '0' indicates CBOW model; '1' indicates Skip-Gram\n",
    "- `alpha`: Learning rate (initial); prevents model from over-correcting, enables finer tuning\n",
    "- `iterations`: Number of passes through dataset\n",
    "- `batch_words`: Number of words to sample from data during each pass"
   ]
  },
  {
   "cell_type": "code",
   "execution_count": 19,
   "metadata": {
    "scrolled": false
   },
   "outputs": [
    {
     "name": "stdout",
     "output_type": "stream",
     "text": [
      "collecting all words and their counts\n",
      "PROGRESS: at sentence #0, processed 0 words, keeping 0 word types\n",
      "PROGRESS: at sentence #10000, processed 256693 words, keeping 9207 word types\n",
      "PROGRESS: at sentence #20000, processed 567137 words, keeping 13603 word types\n",
      "PROGRESS: at sentence #30000, processed 918759 words, keeping 17616 word types\n",
      "PROGRESS: at sentence #40000, processed 1236460 words, keeping 19579 word types\n",
      "PROGRESS: at sentence #50000, processed 1508401 words, keeping 22623 word types\n",
      "PROGRESS: at sentence #60000, processed 1715918 words, keeping 27910 word types\n",
      "PROGRESS: at sentence #70000, processed 1915119 words, keeping 30708 word types\n",
      "PROGRESS: at sentence #80000, processed 2144824 words, keeping 35822 word types\n",
      "PROGRESS: at sentence #90000, processed 2415166 words, keeping 44470 word types\n",
      "collected 51134 word types from a corpus of 2621785 raw words and 98552 sentences\n",
      "Loading a fresh vocabulary\n",
      "min_count=5 retains 17011 unique words (33% of original 51134, drops 34123)\n",
      "min_count=5 leaves 2565427 word corpus (97% of original 2621785, drops 56358)\n",
      "deleting the raw counts dictionary of 51134 items\n",
      "sample=0.001 downsamples 53 most-common words\n",
      "downsampling leaves estimated 1802467 word corpus (70.3% of prior 2565427)\n",
      "estimated required memory for 17011 words and 300 dimensions: 49331900 bytes\n",
      "resetting layer weights\n",
      "training model with 3 workers on 17011 vocabulary and 300 features, using sg=0 hs=0 sample=0.001 negative=5 window=5\n",
      "EPOCH 1 - PROGRESS: at 18.71% examples, 352174 words/s, in_qsize 0, out_qsize 0\n",
      "EPOCH 1 - PROGRESS: at 36.99% examples, 377015 words/s, in_qsize 0, out_qsize 0\n",
      "EPOCH 1 - PROGRESS: at 57.72% examples, 373241 words/s, in_qsize 0, out_qsize 0\n",
      "EPOCH 1 - PROGRESS: at 79.81% examples, 359604 words/s, in_qsize 0, out_qsize 0\n",
      "worker thread finished; awaiting finish of 2 more threads\n",
      "worker thread finished; awaiting finish of 1 more threads\n",
      "worker thread finished; awaiting finish of 0 more threads\n",
      "EPOCH - 1 : training on 2621785 raw words (1802145 effective words) took 5.0s, 358228 effective words/s\n",
      "EPOCH 2 - PROGRESS: at 18.99% examples, 356586 words/s, in_qsize 0, out_qsize 0\n",
      "EPOCH 2 - PROGRESS: at 37.25% examples, 380506 words/s, in_qsize 0, out_qsize 0\n",
      "EPOCH 2 - PROGRESS: at 58.25% examples, 375658 words/s, in_qsize 0, out_qsize 0\n",
      "EPOCH 2 - PROGRESS: at 80.17% examples, 361748 words/s, in_qsize 0, out_qsize 0\n",
      "worker thread finished; awaiting finish of 2 more threads\n",
      "worker thread finished; awaiting finish of 1 more threads\n",
      "worker thread finished; awaiting finish of 0 more threads\n",
      "EPOCH - 2 : training on 2621785 raw words (1803092 effective words) took 5.0s, 360238 effective words/s\n",
      "EPOCH 3 - PROGRESS: at 18.44% examples, 347404 words/s, in_qsize 0, out_qsize 0\n",
      "EPOCH 3 - PROGRESS: at 36.68% examples, 375710 words/s, in_qsize 0, out_qsize 0\n",
      "EPOCH 3 - PROGRESS: at 57.24% examples, 373603 words/s, in_qsize 0, out_qsize 0\n",
      "EPOCH 3 - PROGRESS: at 79.27% examples, 358702 words/s, in_qsize 0, out_qsize 0\n",
      "EPOCH 3 - PROGRESS: at 99.76% examples, 356945 words/s, in_qsize 0, out_qsize 0\n",
      "worker thread finished; awaiting finish of 2 more threads\n",
      "worker thread finished; awaiting finish of 1 more threads\n",
      "worker thread finished; awaiting finish of 0 more threads\n",
      "EPOCH - 3 : training on 2621785 raw words (1802590 effective words) took 5.0s, 356974 effective words/s\n",
      "EPOCH 4 - PROGRESS: at 18.71% examples, 352436 words/s, in_qsize 0, out_qsize 0\n",
      "EPOCH 4 - PROGRESS: at 36.99% examples, 377199 words/s, in_qsize 0, out_qsize 0\n",
      "EPOCH 4 - PROGRESS: at 57.72% examples, 374113 words/s, in_qsize 0, out_qsize 0\n",
      "EPOCH 4 - PROGRESS: at 79.81% examples, 360168 words/s, in_qsize 0, out_qsize 0\n",
      "worker thread finished; awaiting finish of 2 more threads\n",
      "worker thread finished; awaiting finish of 1 more threads\n",
      "EPOCH 4 - PROGRESS: at 100.00% examples, 357901 words/s, in_qsize 0, out_qsize 1\n",
      "worker thread finished; awaiting finish of 0 more threads\n",
      "EPOCH - 4 : training on 2621785 raw words (1802847 effective words) took 5.0s, 357832 effective words/s\n",
      "EPOCH 5 - PROGRESS: at 18.71% examples, 352528 words/s, in_qsize 0, out_qsize 0\n",
      "EPOCH 5 - PROGRESS: at 36.99% examples, 375915 words/s, in_qsize 0, out_qsize 0\n",
      "EPOCH 5 - PROGRESS: at 57.72% examples, 372906 words/s, in_qsize 0, out_qsize 0\n",
      "EPOCH 5 - PROGRESS: at 79.81% examples, 359423 words/s, in_qsize 0, out_qsize 0\n",
      "worker thread finished; awaiting finish of 2 more threads\n",
      "worker thread finished; awaiting finish of 1 more threads\n",
      "EPOCH 5 - PROGRESS: at 100.00% examples, 356883 words/s, in_qsize 0, out_qsize 1\n",
      "worker thread finished; awaiting finish of 0 more threads\n",
      "EPOCH - 5 : training on 2621785 raw words (1801977 effective words) took 5.1s, 356818 effective words/s\n",
      "EPOCH 6 - PROGRESS: at 18.44% examples, 347698 words/s, in_qsize 0, out_qsize 0\n",
      "EPOCH 6 - PROGRESS: at 36.44% examples, 371842 words/s, in_qsize 0, out_qsize 0\n",
      "EPOCH 6 - PROGRESS: at 56.72% examples, 369327 words/s, in_qsize 0, out_qsize 0\n",
      "EPOCH 6 - PROGRESS: at 78.48% examples, 355311 words/s, in_qsize 0, out_qsize 0\n",
      "EPOCH 6 - PROGRESS: at 99.20% examples, 353697 words/s, in_qsize 0, out_qsize 0\n",
      "worker thread finished; awaiting finish of 2 more threads\n",
      "worker thread finished; awaiting finish of 1 more threads\n",
      "worker thread finished; awaiting finish of 0 more threads\n",
      "EPOCH - 6 : training on 2621785 raw words (1802990 effective words) took 5.1s, 353266 effective words/s\n",
      "EPOCH 7 - PROGRESS: at 18.71% examples, 351841 words/s, in_qsize 0, out_qsize 0\n",
      "EPOCH 7 - PROGRESS: at 36.99% examples, 377578 words/s, in_qsize 0, out_qsize 0\n",
      "EPOCH 7 - PROGRESS: at 57.72% examples, 374637 words/s, in_qsize 0, out_qsize 0\n",
      "EPOCH 7 - PROGRESS: at 79.81% examples, 360336 words/s, in_qsize 0, out_qsize 0\n",
      "worker thread finished; awaiting finish of 2 more threads\n",
      "worker thread finished; awaiting finish of 1 more threads\n",
      "worker thread finished; awaiting finish of 0 more threads\n",
      "EPOCH - 7 : training on 2621785 raw words (1802749 effective words) took 5.0s, 358087 effective words/s\n",
      "EPOCH 8 - PROGRESS: at 18.71% examples, 351310 words/s, in_qsize 0, out_qsize 0\n",
      "EPOCH 8 - PROGRESS: at 36.99% examples, 377152 words/s, in_qsize 0, out_qsize 0\n",
      "EPOCH 8 - PROGRESS: at 57.72% examples, 374649 words/s, in_qsize 0, out_qsize 0\n",
      "EPOCH 8 - PROGRESS: at 79.81% examples, 361179 words/s, in_qsize 0, out_qsize 0\n",
      "worker thread finished; awaiting finish of 2 more threads\n",
      "worker thread finished; awaiting finish of 1 more threads\n",
      "worker thread finished; awaiting finish of 0 more threads\n",
      "EPOCH - 8 : training on 2621785 raw words (1802045 effective words) took 5.0s, 359833 effective words/s\n",
      "EPOCH 9 - PROGRESS: at 18.44% examples, 348097 words/s, in_qsize 0, out_qsize 0\n",
      "EPOCH 9 - PROGRESS: at 36.68% examples, 374185 words/s, in_qsize 0, out_qsize 0\n",
      "EPOCH 9 - PROGRESS: at 57.24% examples, 371398 words/s, in_qsize 0, out_qsize 0\n",
      "EPOCH 9 - PROGRESS: at 79.27% examples, 357969 words/s, in_qsize 0, out_qsize 0\n",
      "EPOCH 9 - PROGRESS: at 99.76% examples, 356178 words/s, in_qsize 0, out_qsize 0\n",
      "worker thread finished; awaiting finish of 2 more threads\n",
      "worker thread finished; awaiting finish of 1 more threads\n",
      "worker thread finished; awaiting finish of 0 more threads\n",
      "EPOCH - 9 : training on 2621785 raw words (1803085 effective words) took 5.1s, 356148 effective words/s\n",
      "EPOCH 10 - PROGRESS: at 18.71% examples, 350020 words/s, in_qsize 0, out_qsize 0\n",
      "EPOCH 10 - PROGRESS: at 36.99% examples, 377587 words/s, in_qsize 0, out_qsize 0\n",
      "EPOCH 10 - PROGRESS: at 57.72% examples, 375332 words/s, in_qsize 0, out_qsize 0\n",
      "EPOCH 10 - PROGRESS: at 79.81% examples, 361640 words/s, in_qsize 0, out_qsize 0\n",
      "worker thread finished; awaiting finish of 2 more threads\n",
      "worker thread finished; awaiting finish of 1 more threads\n",
      "worker thread finished; awaiting finish of 0 more threads\n",
      "EPOCH - 10 : training on 2621785 raw words (1803526 effective words) took 5.0s, 359946 effective words/s\n",
      "training on a 26217850 raw words (18027046 effective words) took 50.4s, 357591 effective words/s\n"
     ]
    }
   ],
   "source": [
    "from nltk.corpus import gutenberg\n",
    "from gensim import models\n",
    "\n",
    "# Training word2vec model on Gutenberg corpus. This may take a few minutes.\n",
    "model = models.Word2Vec(gutenberg.sents(),\n",
    "                        size = 300,\n",
    "                        window = 5,\n",
    "                        min_count = 5,\n",
    "                        sg = 0,\n",
    "                        alpha = 0.025,\n",
    "                        iter = 10,\n",
    "                        batch_words = 10000)"
   ]
  },
  {
   "cell_type": "markdown",
   "metadata": {},
   "source": [
    "![](http://multithreaded.stitchfix.com/assets/images/blog/vectors.gif)"
   ]
  },
  {
   "cell_type": "markdown",
   "metadata": {},
   "source": [
    "The word vectors are directions in space and can encode relationships between words.  \n",
    "\n",
    "The proximity of words to each other can be calculated through their cosine similarity."
   ]
  },
  {
   "cell_type": "code",
   "execution_count": 20,
   "metadata": {},
   "outputs": [
    {
     "name": "stdout",
     "output_type": "stream",
     "text": [
      "precomputing L2-norms of word weight vectors\n"
     ]
    },
    {
     "data": {
      "text/plain": [
       "[('maid', 0.7113270163536072),\n",
       " ('child', 0.6988879442214966),\n",
       " ('lad', 0.6885336637496948),\n",
       " ('Farmer', 0.6741182208061218),\n",
       " ('girl', 0.6726040840148926),\n",
       " ('fellow', 0.613610565662384),\n",
       " ('mother', 0.6096839904785156),\n",
       " ('gentleman', 0.605623722076416),\n",
       " ('lady', 0.6028754711151123),\n",
       " ('Susan', 0.5991085171699524)]"
      ]
     },
     "execution_count": 20,
     "metadata": {},
     "output_type": "execute_result"
    }
   ],
   "source": [
    "# words closest to the token 'boy'\n",
    "model.wv.most_similar(positive=['boy'])"
   ]
  },
  {
   "cell_type": "code",
   "execution_count": 21,
   "metadata": {},
   "outputs": [
    {
     "data": {
      "text/plain": [
       "[('wine', 0.6826830506324768),\n",
       " ('bread', 0.6824086904525757),\n",
       " ('meat', 0.6805968284606934),\n",
       " ('cattle', 0.6408922076225281),\n",
       " ('flocks', 0.6404011249542236),\n",
       " ('corn', 0.6312136650085449),\n",
       " ('fruits', 0.628380537033081),\n",
       " ('wheat', 0.6257160902023315),\n",
       " ('prey', 0.6190413236618042),\n",
       " ('lambs', 0.6120137572288513)]"
      ]
     },
     "execution_count": 21,
     "metadata": {},
     "output_type": "execute_result"
    }
   ],
   "source": [
    "# words closest to the token 'food'\n",
    "model.wv.most_similar(positive=['food'])"
   ]
  },
  {
   "cell_type": "code",
   "execution_count": 22,
   "metadata": {},
   "outputs": [
    {
     "data": {
      "text/plain": [
       "[('particularly', 0.5025079250335693),\n",
       " ('Fairfax', 0.4188178777694702),\n",
       " ('Anne', 0.40248051285743713),\n",
       " ('allowed', 0.3808298408985138),\n",
       " ('idle', 0.3794349431991577),\n",
       " ('Mary', 0.3785339593887329),\n",
       " ('relating', 0.3769521117210388),\n",
       " ('absolutely', 0.3764355480670929),\n",
       " ('longing', 0.3748558461666107),\n",
       " ('elegant', 0.37446707487106323)]"
      ]
     },
     "execution_count": 22,
     "metadata": {},
     "output_type": "execute_result"
    }
   ],
   "source": [
    "# she + her + hers + herself - he - him - his - himself\n",
    "model.wv.most_similar(positive=['she','her','hers','herself'], negative=['he','him','his','himself'])"
   ]
  },
  {
   "cell_type": "code",
   "execution_count": 23,
   "metadata": {},
   "outputs": [],
   "source": [
    "# Let's limit ourselves to top 50 words that related to food to visualize how they relate in vector space\n",
    "f_tokens = [token for token,weight in model.wv.most_similar(positive=['food'], topn=50)]"
   ]
  },
  {
   "cell_type": "code",
   "execution_count": 24,
   "metadata": {},
   "outputs": [],
   "source": [
    "from sklearn.metrics import pairwise\n",
    "vectors = [model.wv[word] for word in f_tokens]\n",
    "dist_matrix = pairwise.pairwise_distances(vectors, metric='cosine')"
   ]
  },
  {
   "cell_type": "code",
   "execution_count": 25,
   "metadata": {},
   "outputs": [],
   "source": [
    "from sklearn.manifold import MDS\n",
    "mds = MDS(n_components = 2, dissimilarity='precomputed')\n",
    "embeddings = mds.fit_transform(dist_matrix)"
   ]
  },
  {
   "cell_type": "code",
   "execution_count": 26,
   "metadata": {},
   "outputs": [
    {
     "data": {
      "image/png": "[encoded data removed]",
      "text/plain": [
       "<Figure size 1008x720 with 1 Axes>"
      ]
     },
     "metadata": {
      "needs_background": "light"
     },
     "output_type": "display_data"
    }
   ],
   "source": [
    "import matplotlib.pyplot as plt\n",
    "%matplotlib inline\n",
    "\n",
    "\n",
    "_, ax = plt.subplots(figsize=(14,10))\n",
    "ax.scatter(embeddings[:,0], embeddings[:,1], alpha=0)\n",
    "for i in range(len(vectors)):\n",
    "    ax.annotate(f_tokens[i], ((embeddings[i,0], embeddings[i,1])))"
   ]
  },
  {
   "cell_type": "markdown",
   "metadata": {},
   "source": [
    "**What kind of clusters of food-themed terms can you notice?**\n",
    "\n",
    "- Words that are grouped together generally appear in the same context\n",
    "    - Some examples:\n",
    "        - vineyards - vines - grapes\n",
    "        - hunger - thirst\n",
    "        - corn - wheat - barley\n",
    "- Note that we're dealing with vectors that have been reduced from 300 dimensions to 2 dimensions for visualization purposes. We have also limited our subset to those nearest to the token *food*.\n",
    "- Also note that we are working with the [Gutenberg corpus](http://www.nltk.org/book/ch02.html), which is a collection of mostly old English literature books, such as works from Jane Austen and William Shakespeare."
   ]
  },
  {
   "cell_type": "markdown",
   "metadata": {},
   "source": [
    "# Doc2Vec"
   ]
  },
  {
   "cell_type": "markdown",
   "metadata": {
    "collapsed": true
   },
   "source": [
    "---\n",
    "Doc2Vec, the most powerful extension of word2vec\n",
    "---\n",
    "\n",
    "Doc2vec (aka paragraph2vec or sentence embeddings) extrapolates the word2vec algorithm to larger blocks of text, such as sentences, paragraphs or entire documents. \n",
    "\n",
    "![](images/overview_word.png)\n",
    "\n",
    "![](images/overview_paragraph.png)\n",
    "\n",
    "Every paragraph is mapped to a unique vector, represented by a column in matrix D and every word is also mapped to a unique vector, represented by a column in matrix W . \n",
    "The paragraph vector and word vectors are averaged or concatenated to predict the next word in a context. \n",
    "\n",
    "Each additional context does not have be a fixed length (because it is vectorized and projected into the same space).\n",
    "\n",
    "Additional parameters but the updates are sparse thus still efficent.\n",
    "\n",
    "__2 architectures__:\n",
    "\n",
    "1. Distrubted Memory (DM)\n",
    "2. Distrubted Bag of Words (DBOW)"
   ]
  },
  {
   "cell_type": "markdown",
   "metadata": {},
   "source": [
    "## Distrubted Memory (DM)\n",
    "\n",
    "__Highlights__:\n",
    "\n",
    "- Assign and randomly initialize paragraph vector for each doc\n",
    "- Predict next word using context words and paragraph vector\n",
    "- Slide context window across doc but keep paragraph vector fixed (hence: Distrubted Memory)\n",
    "- Update weights via SGD and backprop"
   ]
  },
  {
   "cell_type": "markdown",
   "metadata": {},
   "source": [
    "## Distrubted Bag of Words (DBOW)\n",
    "\n",
    "__Highlights__:\n",
    "\n",
    "- ONLY use paragraph vectors (no word vectors)\n",
    "- Take a window of words in a paragraph and randomly sample which ones to predict using paragraph vector\n",
    "- Simpler, more memory effecient\n",
    "\n",
    "![](images/DBOW.png)"
   ]
  },
  {
   "cell_type": "markdown",
   "metadata": {},
   "source": [
    "Let's try building our own Doc2Vec model with Gensim"
   ]
  },
  {
   "cell_type": "markdown",
   "metadata": {},
   "source": [
    "Doc2Vec Parameters\n",
    "- `size`: Number of dimensions for the embedding model\n",
    "- `window`: Number of context words to observe in each direction within a document\n",
    "- `min_count`: Minimum frequency for words included in model\n",
    "- `dm` (distributed memory): '0' indicates DBOW model; '1' indicates DM\n",
    "- `alpha`: Learning rate (initial); prevents model from over-correcting, enables finer tuning\n",
    "- `iter`: Number of iterations through corpus"
   ]
  },
  {
   "cell_type": "code",
   "execution_count": 27,
   "metadata": {},
   "outputs": [
    {
     "name": "stdout",
     "output_type": "stream",
     "text": [
      "collecting all words and their counts\n",
      "PROGRESS: at example #0, processed 0 words (0/s), 0 word types, 0 tags\n",
      "PROGRESS: at example #10000, processed 1432016 words (7925120/s), 60879 word types, 10000 tags\n"
     ]
    },
    {
     "name": "stderr",
     "output_type": "stream",
     "text": [
      "C:\\Users\\pipi\\Anaconda3\\lib\\site-packages\\gensim\\models\\doc2vec.py:362: UserWarning: The parameter `iter` is deprecated, will be removed in 4.0.0, use `epochs` instead.\n",
      "  warnings.warn(\"The parameter `iter` is deprecated, will be removed in 4.0.0, use `epochs` instead.\")\n",
      "C:\\Users\\pipi\\Anaconda3\\lib\\site-packages\\gensim\\models\\doc2vec.py:366: UserWarning: The parameter `size` is deprecated, will be removed in 4.0.0, use `vector_size` instead.\n",
      "  warnings.warn(\"The parameter `size` is deprecated, will be removed in 4.0.0, use `vector_size` instead.\")\n"
     ]
    },
    {
     "name": "stdout",
     "output_type": "stream",
     "text": [
      "collected 63346 word types and 10788 unique tags from a corpus of 10788 examples and 1548597 words\n",
      "Loading a fresh vocabulary\n",
      "min_count=5 retains 15255 unique words (24% of original 63346, drops 48091)\n",
      "min_count=5 leaves 1472902 word corpus (95% of original 1548597, drops 75695)\n",
      "deleting the raw counts dictionary of 63346 items\n",
      "sample=0.001 downsamples 45 most-common words\n",
      "downsampling leaves estimated 1118205 word corpus (75.9% of prior 1472902)\n",
      "estimated required memory for 15255 words and 300 dimensions: 57185100 bytes\n",
      "resetting layer weights\n"
     ]
    }
   ],
   "source": [
    "from gensim.models import Doc2Vec\n",
    "from gensim.models.doc2vec import TaggedDocument\n",
    "from nltk.corpus import reuters\n",
    "\n",
    "# Tokenize Reuters corpus\n",
    "tokenized_docs = [nltk.word_tokenize(reuters.raw(fileid)) for fileid in reuters.fileids()]\n",
    "\n",
    "# Convert tokenized documents to TaggedDocuments\n",
    "tagged_docs = [TaggedDocument(doc, tags=[idx]) for idx, doc in enumerate(tokenized_docs)]\n",
    "\n",
    "# Create and train the doc2vec model. May take a few seconds\n",
    "doc2vec = Doc2Vec(size=300, window=5, min_count=5, dm = 1, iter=10)\n",
    "\n",
    "# Build the word2vec model from the corpus\n",
    "doc2vec.build_vocab(tagged_docs)"
   ]
  },
  {
   "cell_type": "code",
   "execution_count": 40,
   "metadata": {},
   "outputs": [
    {
     "ename": "KeyError",
     "evalue": "\"tag 'doc003' not seen in training corpus/invalid\"",
     "output_type": "error",
     "traceback": [
      "\u001b[1;31m---------------------------------------------------------------------------\u001b[0m",
      "\u001b[1;31mKeyError\u001b[0m                                  Traceback (most recent call last)",
      "\u001b[1;32m<ipython-input-40-d81db404919a>\u001b[0m in \u001b[0;36m<module>\u001b[1;34m\u001b[0m\n\u001b[0;32m      1\u001b[0m \u001b[0mdoc2vec\u001b[0m\u001b[1;33m.\u001b[0m\u001b[0minfer_vector\u001b[0m\u001b[1;33m(\u001b[0m\u001b[1;34m\"Does anyone remember when Madonna was considered shocking?\"\u001b[0m\u001b[1;33m)\u001b[0m\u001b[1;33m\u001b[0m\u001b[1;33m\u001b[0m\u001b[0m\n\u001b[1;32m----> 2\u001b[1;33m \u001b[0mdoc2vec\u001b[0m\u001b[1;33m.\u001b[0m\u001b[0mdocvecs\u001b[0m\u001b[1;33m[\u001b[0m\u001b[1;34m'doc003'\u001b[0m\u001b[1;33m]\u001b[0m\u001b[1;33m\u001b[0m\u001b[1;33m\u001b[0m\u001b[0m\n\u001b[0m",
      "\u001b[1;32m~\\Anaconda3\\lib\\site-packages\\gensim\\models\\keyedvectors.py\u001b[0m in \u001b[0;36m__getitem__\u001b[1;34m(self, index)\u001b[0m\n\u001b[0;32m   1197\u001b[0m                 \u001b[1;32mreturn\u001b[0m \u001b[0mself\u001b[0m\u001b[1;33m.\u001b[0m\u001b[0mvectors_docs\u001b[0m\u001b[1;33m[\u001b[0m\u001b[0mself\u001b[0m\u001b[1;33m.\u001b[0m\u001b[0m_int_index\u001b[0m\u001b[1;33m(\u001b[0m\u001b[0mindex\u001b[0m\u001b[1;33m,\u001b[0m \u001b[0mself\u001b[0m\u001b[1;33m.\u001b[0m\u001b[0mdoctags\u001b[0m\u001b[1;33m,\u001b[0m \u001b[0mself\u001b[0m\u001b[1;33m.\u001b[0m\u001b[0mmax_rawint\u001b[0m\u001b[1;33m)\u001b[0m\u001b[1;33m]\u001b[0m\u001b[1;33m\u001b[0m\u001b[1;33m\u001b[0m\u001b[0m\n\u001b[0;32m   1198\u001b[0m             \u001b[1;32mreturn\u001b[0m \u001b[0mvstack\u001b[0m\u001b[1;33m(\u001b[0m\u001b[1;33m[\u001b[0m\u001b[0mself\u001b[0m\u001b[1;33m[\u001b[0m\u001b[0mi\u001b[0m\u001b[1;33m]\u001b[0m \u001b[1;32mfor\u001b[0m \u001b[0mi\u001b[0m \u001b[1;32min\u001b[0m \u001b[0mindex\u001b[0m\u001b[1;33m]\u001b[0m\u001b[1;33m)\u001b[0m\u001b[1;33m\u001b[0m\u001b[1;33m\u001b[0m\u001b[0m\n\u001b[1;32m-> 1199\u001b[1;33m         \u001b[1;32mraise\u001b[0m \u001b[0mKeyError\u001b[0m\u001b[1;33m(\u001b[0m\u001b[1;34m\"tag '%s' not seen in training corpus/invalid\"\u001b[0m \u001b[1;33m%\u001b[0m \u001b[0mindex\u001b[0m\u001b[1;33m)\u001b[0m\u001b[1;33m\u001b[0m\u001b[1;33m\u001b[0m\u001b[0m\n\u001b[0m\u001b[0;32m   1200\u001b[0m \u001b[1;33m\u001b[0m\u001b[0m\n\u001b[0;32m   1201\u001b[0m     \u001b[1;32mdef\u001b[0m \u001b[0m__contains__\u001b[0m\u001b[1;33m(\u001b[0m\u001b[0mself\u001b[0m\u001b[1;33m,\u001b[0m \u001b[0mindex\u001b[0m\u001b[1;33m)\u001b[0m\u001b[1;33m:\u001b[0m\u001b[1;33m\u001b[0m\u001b[1;33m\u001b[0m\u001b[0m\n",
      "\u001b[1;31mKeyError\u001b[0m: \"tag 'doc003' not seen in training corpus/invalid\""
     ]
    }
   ],
   "source": [
    "doc2vec.infer_vector(\"Does anyone remember when Madonna was considered shocking?\")\n",
    "doc2vec.docvecs['doc003']"
   ]
  },
  {
   "cell_type": "markdown",
   "metadata": {},
   "source": [
    "You can also fortify your Doc2Vec models with pre-trained Word2Vec models.\n",
    "Let's try re-training with GoogleNews-trained word vectors.  \n",
    "Download [here](https://drive.google.com/file/d/0B7XkCwpI5KDYNlNUTTlSS21pQmM/edit?usp=sharing)  \n",
    "(Size is 1.5gb)"
   ]
  },
  {
   "cell_type": "code",
   "execution_count": 38,
   "metadata": {},
   "outputs": [
    {
     "ename": "AttributeError",
     "evalue": "'Doc2Vec' object has no attribute 'intersect_word2vec_format'",
     "output_type": "error",
     "traceback": [
      "\u001b[1;31m---------------------------------------------------------------------------\u001b[0m",
      "\u001b[1;31mAttributeError\u001b[0m                            Traceback (most recent call last)",
      "\u001b[1;32m<ipython-input-38-bfe9681b854b>\u001b[0m in \u001b[0;36m<module>\u001b[1;34m\u001b[0m\n\u001b[0;32m      4\u001b[0m \u001b[1;31m#This may take a few minutes to run\u001b[0m\u001b[1;33m\u001b[0m\u001b[1;33m\u001b[0m\u001b[1;33m\u001b[0m\u001b[0m\n\u001b[0;32m      5\u001b[0m \u001b[0mw2v_loc\u001b[0m \u001b[1;33m=\u001b[0m \u001b[1;34m\"Users\\pipi\\Desktop\\FakeNewsTutorials-master\\JupyterNotebook\\Hw 2\"\u001b[0m\u001b[1;31m# your saved location of GoogleNews-vectors-negative300.bin.gz\u001b[0m\u001b[1;33m\u001b[0m\u001b[1;33m\u001b[0m\u001b[0m\n\u001b[1;32m----> 6\u001b[1;33m \u001b[0mdoc2vec\u001b[0m\u001b[1;33m.\u001b[0m\u001b[0mintersect_word2vec_format\u001b[0m\u001b[1;33m(\u001b[0m\u001b[0mw2v_loc\u001b[0m\u001b[1;33m,\u001b[0m \u001b[0mbinary\u001b[0m\u001b[1;33m=\u001b[0m\u001b[1;32mTrue\u001b[0m\u001b[1;33m)\u001b[0m\u001b[1;33m\u001b[0m\u001b[1;33m\u001b[0m\u001b[0m\n\u001b[0m",
      "\u001b[1;31mAttributeError\u001b[0m: 'Doc2Vec' object has no attribute 'intersect_word2vec_format'"
     ]
    }
   ],
   "source": [
    "from gensim.models import Doc2Vec\n",
    "from gensim.models.doc2vec import TaggedDocument\n",
    "from nltk.corpus import reuters\n",
    "#This may take a few minutes to run\n",
    "w2v_loc = \"Users\\pipi\\Desktop\\FakeNewsTutorials-master\\JupyterNotebook\\Hw 2\"# your saved location of GoogleNews-vectors-negative300.bin.gz\n",
    "doc2vec.intersect_word2vec_format(w2v_loc, binary=True)"
   ]
  },
  {
   "cell_type": "code",
   "execution_count": null,
   "metadata": {},
   "outputs": [],
   "source": [
    "doc2vec.train(tagged_docs, epochs=10, total_examples=doc2vec.corpus_count)"
   ]
  },
  {
   "cell_type": "markdown",
   "metadata": {},
   "source": [
    "# Exercises"
   ]
  },
  {
   "cell_type": "markdown",
   "metadata": {},
   "source": [
    "Using what you have learned from Week 1 and today's lecture, build a binary classifier for the movie reviews dataset in `data/movie_reviews.csv`."
   ]
  },
  {
   "cell_type": "code",
   "execution_count": 41,
   "metadata": {},
   "outputs": [
    {
     "name": "stdout",
     "output_type": "stream",
     "text": [
      "adding document #0 to Dictionary(0 unique tokens: [])\n",
      "built Dictionary(12 unique tokens: ['computer', 'human', 'interface', 'response', 'survey']...) from 9 documents (total 29 corpus positions)\n"
     ]
    },
    {
     "name": "stderr",
     "output_type": "stream",
     "text": [
      "consider setting layer size to a multiple of 4 for greater performance\n"
     ]
    },
    {
     "name": "stdout",
     "output_type": "stream",
     "text": [
      "collecting all words and their counts\n",
      "PROGRESS: at example #0, processed 0 words (0/s), 0 word types, 0 tags\n",
      "collected 12 word types and 9 unique tags from a corpus of 9 examples and 29 words\n",
      "Loading a fresh vocabulary\n",
      "min_count=1 retains 12 unique words (100% of original 12, drops 0)\n",
      "min_count=1 leaves 29 word corpus (100% of original 29, drops 0)\n",
      "deleting the raw counts dictionary of 12 items\n",
      "sample=0.001 downsamples 12 most-common words\n",
      "downsampling leaves estimated 3 word corpus (12.1% of prior 29)\n",
      "estimated required memory for 12 words and 5 dimensions: 6660 bytes\n",
      "resetting layer weights\n",
      "training model with 4 workers on 12 vocabulary and 5 features, using sg=0 hs=0 sample=0.001 negative=5 window=2\n",
      "worker thread finished; awaiting finish of 3 more threads\n",
      "worker thread finished; awaiting finish of 2 more threads\n",
      "worker thread finished; awaiting finish of 1 more threads\n",
      "worker thread finished; awaiting finish of 0 more threads\n",
      "EPOCH - 1 : training on 29 raw words (13 effective words) took 0.0s, 7281 effective words/s\n",
      "worker thread finished; awaiting finish of 3 more threads\n",
      "worker thread finished; awaiting finish of 2 more threads\n",
      "worker thread finished; awaiting finish of 1 more threads\n",
      "worker thread finished; awaiting finish of 0 more threads\n",
      "EPOCH - 2 : training on 29 raw words (12 effective words) took 0.0s, 6145 effective words/s\n",
      "worker thread finished; awaiting finish of 3 more threads\n",
      "worker thread finished; awaiting finish of 2 more threads\n",
      "worker thread finished; awaiting finish of 1 more threads\n",
      "worker thread finished; awaiting finish of 0 more threads\n",
      "EPOCH - 3 : training on 29 raw words (11 effective words) took 0.0s, 4602 effective words/s\n",
      "worker thread finished; awaiting finish of 3 more threads\n",
      "worker thread finished; awaiting finish of 2 more threads\n",
      "worker thread finished; awaiting finish of 1 more threads\n",
      "worker thread finished; awaiting finish of 0 more threads\n",
      "EPOCH - 4 : training on 29 raw words (9 effective words) took 0.0s, 5530 effective words/s\n",
      "worker thread finished; awaiting finish of 3 more threads\n",
      "worker thread finished; awaiting finish of 2 more threads\n",
      "worker thread finished; awaiting finish of 1 more threads\n",
      "worker thread finished; awaiting finish of 0 more threads\n",
      "EPOCH - 5 : training on 29 raw words (15 effective words) took 0.0s, 8673 effective words/s\n",
      "training on a 145 raw words (60 effective words) took 0.0s, 2673 effective words/s\n"
     ]
    },
    {
     "name": "stderr",
     "output_type": "stream",
     "text": [
      "under 10 jobs per worker: consider setting a smaller `batch_words' for smoother alpha decay\n"
     ]
    },
    {
     "name": "stdout",
     "output_type": "stream",
     "text": [
      "saving Doc2Vec object under C:\\Users\\pipi\\AppData\\Local\\Temp\\GoogleNews-vectors-negative300.bin.gz, separately None\n",
      "saved C:\\Users\\pipi\\AppData\\Local\\Temp\\GoogleNews-vectors-negative300.bin.gz\n",
      "loading Doc2Vec object from C:\\Users\\pipi\\AppData\\Local\\Temp\\GoogleNews-vectors-negative300.bin.gz\n",
      "loading vocabulary recursively from C:\\Users\\pipi\\AppData\\Local\\Temp\\GoogleNews-vectors-negative300.bin.gz.vocabulary.* with mmap=None\n",
      "loading trainables recursively from C:\\Users\\pipi\\AppData\\Local\\Temp\\GoogleNews-vectors-negative300.bin.gz.trainables.* with mmap=None\n",
      "loading wv recursively from C:\\Users\\pipi\\AppData\\Local\\Temp\\GoogleNews-vectors-negative300.bin.gz.wv.* with mmap=None\n",
      "loading docvecs recursively from C:\\Users\\pipi\\AppData\\Local\\Temp\\GoogleNews-vectors-negative300.bin.gz.docvecs.* with mmap=None\n",
      "loaded C:\\Users\\pipi\\AppData\\Local\\Temp\\GoogleNews-vectors-negative300.bin.gz\n"
     ]
    },
    {
     "name": "stderr",
     "output_type": "stream",
     "text": [
      "C:\\Users\\pipi\\Anaconda3\\lib\\site-packages\\smart_open\\smart_open_lib.py:398: UserWarning: This function is deprecated, use smart_open.open instead. See the migration notes for details: https://github.com/RaRe-Technologies/smart_open/blob/master/README.rst#migrating-to-the-new-open-function\n",
      "  'See the migration notes for details: %s' % _MIGRATION_NOTES_URL\n"
     ]
    }
   ],
   "source": [
    "from gensim.test.utils import get_tmpfile\n",
    "from gensim.test.utils import common_texts\n",
    "from gensim.models.doc2vec import Doc2Vec, TaggedDocument\n",
    "\n",
    "documents = [TaggedDocument(doc, [i]) for i, doc in enumerate(common_texts)]\n",
    "newmodel = Doc2Vec(documents, vector_size=5, window=2, min_count=1, workers=4)\n",
    "fname = get_tmpfile(\"GoogleNews-vectors-negative300.bin.gz\")\n",
    "\n",
    "newmodel.save(fname)\n",
    "newmodel = Doc2Vec.load(fname)  # you can continue training with the loaded model!"
   ]
  },
  {
   "cell_type": "code",
   "execution_count": null,
   "metadata": {},
   "outputs": [],
   "source": []
  }
 ],
 "metadata": {
  "kernelspec": {
   "display_name": "Python 3",
   "language": "python",
   "name": "python3"
  },
  "language_info": {
   "codemirror_mode": {
    "name": "ipython",
    "version": 3
   },
   "file_extension": ".py",
   "mimetype": "text/x-python",
   "name": "python",
   "nbconvert_exporter": "python",
   "pygments_lexer": "ipython3",
   "version": "3.7.3"
  },
  "toc": {
   "colors": {
    "hover_highlight": "#DAA520",
    "running_highlight": "#FF0000",
    "selected_highlight": "#FFD700"
   },
   "moveMenuLeft": true,
   "nav_menu": {
    "height": "248px",
    "width": "252px"
   },
   "navigate_menu": true,
   "number_sections": true,
   "sideBar": true,
   "threshold": 4,
   "toc_cell": true,
   "toc_section_display": "block",
   "toc_window_display": false
  }
 },
 "nbformat": 4,
 "nbformat_minor": 2
}
